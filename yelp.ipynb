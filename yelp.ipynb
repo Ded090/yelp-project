{
 "cells": [
  {
   "cell_type": "markdown",
   "source": [
    "# YELP"
   ],
   "metadata": {
    "collapsed": false
   },
   "id": "934b3128eb541420"
  },
  {
   "cell_type": "code",
   "execution_count": 1,
   "id": "initial_id",
   "metadata": {
    "collapsed": true,
    "ExecuteTime": {
     "end_time": "2023-12-05T08:10:54.171209Z",
     "start_time": "2023-12-05T08:10:53.921876800Z"
    }
   },
   "outputs": [],
   "source": [
    "from pyspark.sql import SparkSession\n",
    "from pyspark.sql import functions as f\n",
    "from pyspark.sql.window import Window"
   ]
  },
  {
   "cell_type": "code",
   "execution_count": 2,
   "outputs": [],
   "source": [
    "spark = SparkSession.builder.appName(\"yelp\").getOrCreate()\n"
   ],
   "metadata": {
    "collapsed": false,
    "ExecuteTime": {
     "end_time": "2023-12-05T08:11:02.787262400Z",
     "start_time": "2023-12-05T08:10:54.082446400Z"
    }
   },
   "id": "784cffb502f14921"
  },
  {
   "cell_type": "markdown",
   "source": [
    "load data"
   ],
   "metadata": {
    "collapsed": false
   },
   "id": "ba5162a9b1f0815b"
  },
  {
   "cell_type": "code",
   "execution_count": 39,
   "outputs": [
    {
     "name": "stdout",
     "output_type": "stream",
     "text": [
      "root\n",
      " |-- address: string (nullable = true)\n",
      " |-- attributes: struct (nullable = true)\n",
      " |-- business_id: string (nullable = true)\n",
      " |-- categories: string (nullable = true)\n",
      " |-- city: string (nullable = true)\n",
      " |-- hours: struct (nullable = true)\n",
      " |-- is_open: long (nullable = true)\n",
      " |-- latitude: double (nullable = true)\n",
      " |-- longitude: double (nullable = true)\n",
      " |-- name: string (nullable = true)\n",
      " |-- postal_code: string (nullable = true)\n",
      " |-- review_count: long (nullable = true)\n",
      " |-- stars: double (nullable = true)\n",
      " |-- state: string (nullable = true)\n",
      "+--------------------+--------------------+--------------------+--------------------+-------------+--------------------+-------+----------+------------+--------------------+-----------+------------+-----+-----+\n",
      "|             address|          attributes|         business_id|          categories|         city|               hours|is_open|  latitude|   longitude|                name|postal_code|review_count|stars|state|\n",
      "+--------------------+--------------------+--------------------+--------------------+-------------+--------------------+-------+----------+------------+--------------------+-----------+------------+-----+-----+\n",
      "|1616 Chapala St, ...|{NULL, NULL, NULL...|Pns2l4eNsfO8kk83d...|Doctors, Traditio...|Santa Barbara|                NULL|      0|34.4266787|-119.7111968|Abby Rappoport, L...|      93101|           7|  5.0|   CA|\n",
      "|87 Grasso Plaza S...|{NULL, NULL, NULL...|mpf3x-BjTdTEA3yCZ...|Shipping Centers,...|       Affton|{8:0-18:30, 0:0-0...|      1| 38.551126|  -90.335695|       The UPS Store|      63123|          15|  3.0|   MO|\n",
      "|5255 E Broadway Blvd|{NULL, NULL, NULL...|tUFrWirKiKi_TAnsV...|Department Stores...|       Tucson|{8:0-23:0, 8:0-22...|      0| 32.223236| -110.880452|              Target|      85711|          22|  3.5|   AZ|\n",
      "|         935 Race St|{NULL, NULL, u'no...|MTSW4McQd7CbVtyjq...|Restaurants, Food...| Philadelphia|{7:0-21:0, 7:0-20...|      1|39.9555052| -75.1555641|  St Honore Pastries|      19107|          80|  4.0|   PA|\n",
      "|       101 Walnut St|{NULL, NULL, NULL...|mWMc6_wTdE0EUBKIG...|Brewpubs, Breweri...|   Green Lane|{12:0-22:0, NULL,...|      1|40.3381827| -75.4716585|Perkiomen Valley ...|      18054|          13|  4.5|   PA|\n",
      "+--------------------+--------------------+--------------------+--------------------+-------------+--------------------+-------+----------+------------+--------------------+-----------+------------+-----+-----+\n",
      "only showing top 5 rows\n",
      "\n",
      "Розмірність датасету:\n",
      "К-сть колонок: 14\n",
      "К-сть записів: 150346\n"
     ]
    }
   ],
   "source": [
    "business_ds = spark.read.json(\"./data/yelp_academic_dataset_business.json\")\n",
    "\n",
    "business_ds.printSchema(1)\n",
    "business_ds.show(5)\n",
    "\n",
    "print(\"Розмірність датасету:\")\n",
    "print(\"К-сть колонок:\", len(business_ds.columns))\n",
    "print(\"К-сть записів:\", business_ds.count())"
   ],
   "metadata": {
    "collapsed": false,
    "ExecuteTime": {
     "end_time": "2023-12-05T09:48:28.118076200Z",
     "start_time": "2023-12-05T09:48:25.686507200Z"
    }
   },
   "id": "de4feb02bfef69e5"
  },
  {
   "cell_type": "code",
   "execution_count": 40,
   "outputs": [
    {
     "name": "stdout",
     "output_type": "stream",
     "text": [
      "root\n",
      " |-- business_id: string (nullable = true)\n",
      " |-- cool: long (nullable = true)\n",
      " |-- date: string (nullable = true)\n",
      " |-- funny: long (nullable = true)\n",
      " |-- review_id: string (nullable = true)\n",
      " |-- stars: double (nullable = true)\n",
      " |-- text: string (nullable = true)\n",
      " |-- useful: long (nullable = true)\n",
      " |-- user_id: string (nullable = true)\n",
      "\n",
      "+--------------------+----+-------------------+-----+--------------------+-----+--------------------+------+--------------------+\n",
      "|         business_id|cool|               date|funny|           review_id|stars|                text|useful|             user_id|\n",
      "+--------------------+----+-------------------+-----+--------------------+-----+--------------------+------+--------------------+\n",
      "|XQfwVwDr-v0ZS3_Cb...|   0|2018-07-07 22:09:11|    0|KU_O5udG6zpxOg-Vc...|  3.0|If you decide to ...|     0|mh_-eMZ6K5RLWhZyI...|\n",
      "|7ATYjTIgM3jUlt4UM...|   1|2012-01-03 15:28:18|    0|BiTunyQ73aT9WBnpR...|  5.0|I've taken a lot ...|     1|OyoGAe7OKpv6SyGZT...|\n",
      "|YjUWPpI6HXG530lwP...|   0|2014-02-05 20:30:30|    0|saUsX_uimxRlCVr67...|  3.0|Family diner. Had...|     0|8g_iMtfSiwikVnbP2...|\n",
      "|kxX2SOes4o-D3ZQBk...|   1|2015-01-04 00:01:03|    0|AqPFMleE6RsU23_au...|  5.0|Wow!  Yummy, diff...|     1|_7bHUi9Uuf5__HHc_...|\n",
      "|e4Vwtrqf-wpJfwesg...|   1|2017-01-14 20:54:15|    0|Sx8TMOWLNuJBWer-0...|  4.0|Cute interior and...|     1|bcjbaE6dDog4jkNY9...|\n",
      "+--------------------+----+-------------------+-----+--------------------+-----+--------------------+------+--------------------+\n",
      "only showing top 5 rows\n",
      "\n",
      "Розмірність датасету:\n",
      "К-сть колонок: 9\n",
      "К-сть записів: 6990280\n"
     ]
    }
   ],
   "source": [
    "review_ds = spark.read.json(\"./data/yelp_academic_dataset_review.json\")\n",
    "\n",
    "review_ds.printSchema(1)\n",
    "review_ds.show(5)\n",
    "\n",
    "print(\"Розмірність датасету:\")\n",
    "print(\"К-сть колонок:\", len(review_ds.columns))\n",
    "print(\"К-сть записів:\", review_ds.count())"
   ],
   "metadata": {
    "collapsed": false,
    "ExecuteTime": {
     "end_time": "2023-12-05T09:48:44.227911300Z",
     "start_time": "2023-12-05T09:48:28.124061100Z"
    }
   },
   "id": "e5502304303a2fa8"
  },
  {
   "cell_type": "code",
   "execution_count": 41,
   "outputs": [
    {
     "name": "stdout",
     "output_type": "stream",
     "text": [
      "root\n",
      " |-- business_id: string (nullable = true)\n",
      " |-- compliment_count: long (nullable = true)\n",
      " |-- date: string (nullable = true)\n",
      " |-- text: string (nullable = true)\n",
      " |-- user_id: string (nullable = true)\n",
      "\n",
      "+--------------------+----------------+-------------------+--------------------+--------------------+\n",
      "|         business_id|compliment_count|               date|                text|             user_id|\n",
      "+--------------------+----------------+-------------------+--------------------+--------------------+\n",
      "|3uLgwr0qeCNMjKenH...|               0|2012-05-18 02:17:21|Avengers time wit...|AGNUgVwnZUey3gcPC...|\n",
      "|QoezRbYQncpRqyrLH...|               0|2013-02-05 18:35:10|They have lots of...|NBN4MgHP9D3cw--Sn...|\n",
      "|MYoRNLb5chwjQe3c_...|               0|2013-08-18 00:56:08|It's open even wh...|-copOvldyKh1qr-vz...|\n",
      "|hV-bABTK-glh5wj31...|               0|2017-06-27 23:05:38|Very decent fried...|FjMQVZjSqY8syIO-5...|\n",
      "|_uN0OudeJ3Zl_tf6n...|               0|2012-10-06 19:43:09|Appetizers.. plat...|ld0AperBXk1h6Ubqm...|\n",
      "+--------------------+----------------+-------------------+--------------------+--------------------+\n",
      "only showing top 5 rows\n",
      "\n",
      "Розмірність датасету:\n",
      "К-сть колонок: 5\n",
      "К-сть записів: 908915\n"
     ]
    }
   ],
   "source": [
    "tip_ds = spark.read.json(\"./data/yelp_academic_dataset_tip.json\")\n",
    "\n",
    "tip_ds.printSchema(1)\n",
    "tip_ds.show(5)\n",
    "\n",
    "print(\"Розмірність датасету:\")\n",
    "print(\"К-сть колонок:\", len(tip_ds.columns))\n",
    "print(\"К-сть записів:\", tip_ds.count())"
   ],
   "metadata": {
    "collapsed": false,
    "ExecuteTime": {
     "end_time": "2023-12-05T09:48:45.391796700Z",
     "start_time": "2023-12-05T09:48:44.230903900Z"
    }
   },
   "id": "e6afb5f84ff9ed24"
  },
  {
   "cell_type": "code",
   "execution_count": 42,
   "outputs": [
    {
     "name": "stdout",
     "output_type": "stream",
     "text": [
      "root\n",
      " |-- average_stars: double (nullable = true)\n",
      " |-- compliment_cool: long (nullable = true)\n",
      " |-- compliment_cute: long (nullable = true)\n",
      " |-- compliment_funny: long (nullable = true)\n",
      " |-- compliment_hot: long (nullable = true)\n",
      " |-- compliment_list: long (nullable = true)\n",
      " |-- compliment_more: long (nullable = true)\n",
      " |-- compliment_note: long (nullable = true)\n",
      " |-- compliment_photos: long (nullable = true)\n",
      " |-- compliment_plain: long (nullable = true)\n",
      " |-- compliment_profile: long (nullable = true)\n",
      " |-- compliment_writer: long (nullable = true)\n",
      " |-- cool: long (nullable = true)\n",
      " |-- elite: string (nullable = true)\n",
      " |-- fans: long (nullable = true)\n",
      " |-- friends: string (nullable = true)\n",
      " |-- funny: long (nullable = true)\n",
      " |-- name: string (nullable = true)\n",
      " |-- review_count: long (nullable = true)\n",
      " |-- useful: long (nullable = true)\n",
      " |-- user_id: string (nullable = true)\n",
      " |-- yelping_since: string (nullable = true)\n",
      "\n",
      "+-------------+---------------+---------------+----------------+--------------+---------------+---------------+---------------+-----------------+----------------+------------------+-----------------+-----+--------------------+----+--------------------+-----+------+------------+------+--------------------+-------------------+\n",
      "|average_stars|compliment_cool|compliment_cute|compliment_funny|compliment_hot|compliment_list|compliment_more|compliment_note|compliment_photos|compliment_plain|compliment_profile|compliment_writer| cool|               elite|fans|             friends|funny|  name|review_count|useful|             user_id|      yelping_since|\n",
      "+-------------+---------------+---------------+----------------+--------------+---------------+---------------+---------------+-----------------+----------------+------------------+-----------------+-----+--------------------+----+--------------------+-----+------+------------+------+--------------------+-------------------+\n",
      "|         3.91|            467|             56|             467|           250|             18|             65|            232|              180|             844|                55|              239| 5994|                2007| 267|NSCy54eWehBJyZdG2...| 1259|Walker|         585|  7217|qVc8ODYU5SZjKXVBg...|2007-01-25 16:47:26|\n",
      "|         3.74|           3131|            157|            3131|          1145|            251|            264|           1847|             1946|            7054|               184|             1521|27281|2009,2010,2011,20...|3138|ueRPE0CX75ePGMqOF...|13066|Daniel|        4333| 43091|j14WgRoU_-2ZE1aw1...|2009-01-25 04:35:42|\n",
      "|         3.32|            119|             17|             119|            89|              3|             13|             66|               18|              96|                10|               35| 1003|2009,2010,2011,20...|  52|LuO3Bn4f3rlhyHIaN...| 1010| Steph|         665|  2086|2WnXYQFK0hXEoTxPt...|2008-07-25 10:41:00|\n",
      "|         4.27|             26|              6|              26|            24|              2|              4|             12|                9|              16|                 1|               10|  299|      2009,2010,2011|  28|enx1vVPnfdNUdPho6...|  330|  Gwen|         224|   512|SZDeASXq7o05mMNLs...|2005-11-29 04:38:33|\n",
      "|         3.54|              0|              0|               0|             1|              0|              1|              1|                0|               1|                 0|                0|    7|                    |   1|PBK4q9KEEBHhFvSXC...|   15| Karen|          79|    29|hA5lMy-EnncsH4JoR...|2007-01-05 19:40:59|\n",
      "|         3.85|           2543|            361|            2543|          1713|            147|            163|           1212|              323|            5696|               191|              815|11211|2006,2007,2008,20...|1357|xBDpTUbai0DXrvxCe...| 9940|  Jane|        1221| 14953|q_QQ5kBBwlCcbL1s4...|2005-03-14 20:26:35|\n",
      "|         2.75|              0|              0|               0|             0|              0|              0|              0|                0|               1|                 0|                0|    0|                    |   1|HDAQ74AEznP-YsMk1...|    1|   Rob|          12|     6|cxuxXkcihfCbqt5By...|2009-02-24 03:09:06|\n",
      "+-------------+---------------+---------------+----------------+--------------+---------------+---------------+---------------+-----------------+----------------+------------------+-----------------+-----+--------------------+----+--------------------+-----+------+------------+------+--------------------+-------------------+\n",
      "only showing top 7 rows\n",
      "\n",
      "Розмірність датасету:\n",
      "К-сть колонок: 22\n",
      "К-сть записів: 1987897\n"
     ]
    }
   ],
   "source": [
    "user_ds = spark.read.json(\"./data/yelp_academic_dataset_user.json\")\n",
    "\n",
    "user_ds.printSchema(1)\n",
    "user_ds.show(7)\n",
    "\n",
    "print(\"Розмірність датасету:\")\n",
    "print(\"К-сть колонок:\", len(user_ds.columns))\n",
    "print(\"К-сть записів:\", user_ds.count())"
   ],
   "metadata": {
    "collapsed": false,
    "ExecuteTime": {
     "end_time": "2023-12-05T09:48:56.466208500Z",
     "start_time": "2023-12-05T09:48:45.385811200Z"
    }
   },
   "id": "26b0139fa5848cb9"
  },
  {
   "cell_type": "markdown",
   "source": [
    "statistics about numerical columns"
   ],
   "metadata": {
    "collapsed": false
   },
   "id": "4019dfadd210590b"
  },
  {
   "cell_type": "code",
   "execution_count": 7,
   "outputs": [
    {
     "name": "stdout",
     "output_type": "stream",
     "text": [
      "+-------+------------------+------------------+\n",
      "|summary|             stars|      review_count|\n",
      "+-------+------------------+------------------+\n",
      "|  count|            150346|            150346|\n",
      "|   mean|3.5967235576603303| 44.86656113232144|\n",
      "| stddev|0.9744207509201349|121.12013570117087|\n",
      "|    min|               1.0|                 5|\n",
      "|    max|               5.0|              7568|\n",
      "+-------+------------------+------------------+\n"
     ]
    }
   ],
   "source": [
    "business_stats = business_ds.describe([\"stars\", \"review_count\"])\n",
    "business_stats.show()"
   ],
   "metadata": {
    "collapsed": false,
    "ExecuteTime": {
     "end_time": "2023-12-05T08:11:35.132457900Z",
     "start_time": "2023-12-05T08:11:34.337584400Z"
    }
   },
   "id": "95dfb3f02c624ed1"
  },
  {
   "cell_type": "code",
   "execution_count": 8,
   "outputs": [
    {
     "name": "stdout",
     "output_type": "stream",
     "text": [
      "+-------+-------------------+------------------+------------------+\n",
      "|summary|              funny|             stars|            useful|\n",
      "+-------+-------------------+------------------+------------------+\n",
      "|  count|            6990280|           6990280|           6990280|\n",
      "|   mean|0.32655959417934616|  3.74858374771826|1.1846089140921394|\n",
      "| stddev| 1.6887290985540495|1.4787045052556855| 3.253766966933363|\n",
      "|    min|                 -1|               1.0|                -1|\n",
      "|    max|                792|               5.0|              1182|\n",
      "+-------+-------------------+------------------+------------------+\n"
     ]
    }
   ],
   "source": [
    "review_stats = review_ds.describe([\"funny\", \"stars\", \"useful\"])\n",
    "review_stats.show()"
   ],
   "metadata": {
    "collapsed": false,
    "ExecuteTime": {
     "end_time": "2023-12-05T08:11:42.616436800Z",
     "start_time": "2023-12-05T08:11:35.134453300Z"
    }
   },
   "id": "464daa04a9d40006"
  },
  {
   "cell_type": "code",
   "execution_count": 9,
   "outputs": [
    {
     "name": "stdout",
     "output_type": "stream",
     "text": [
      "+-------+--------------------+\n",
      "|summary|    compliment_count|\n",
      "+-------+--------------------+\n",
      "|  count|              908915|\n",
      "|   mean|0.012524823553357574|\n",
      "| stddev| 0.12076339327984317|\n",
      "|    min|                   0|\n",
      "|    max|                   6|\n",
      "+-------+--------------------+\n"
     ]
    }
   ],
   "source": [
    "tip_stats = tip_ds.describe([\"compliment_count\"])\n",
    "tip_stats.show()"
   ],
   "metadata": {
    "collapsed": false,
    "ExecuteTime": {
     "end_time": "2023-12-05T08:11:44.238098500Z",
     "start_time": "2023-12-05T08:11:42.622422700Z"
    }
   },
   "id": "3ed5160e32705946"
  },
  {
   "cell_type": "code",
   "execution_count": 10,
   "outputs": [
    {
     "name": "stdout",
     "output_type": "stream",
     "text": [
      "+-------+------------------+------------------+------------------+------------------+------------------+-----------------+\n",
      "|summary|     average_stars|              cool|              fans|             funny|      review_count|           useful|\n",
      "+-------+------------------+------------------+------------------+------------------+------------------+-----------------+\n",
      "|  count|           1987897|           1987897|           1987897|           1987897|           1987897|          1987897|\n",
      "|   mean|  3.63049415035087|23.792913817969442|1.4657404282012598|16.970536199813168|23.394409267683386|42.29633527290398|\n",
      "| stddev|1.1833369995975145| 565.3512954713351| 18.13075272385579| 407.8034374841018| 82.56699161797889|641.4805967755902|\n",
      "|    min|               1.0|                 0|                 0|                 0|                 0|                0|\n",
      "|    max|               5.0|            199878|             12497|            185823|             17473|           206296|\n",
      "+-------+------------------+------------------+------------------+------------------+------------------+-----------------+\n"
     ]
    }
   ],
   "source": [
    "user_stats = user_ds.describe([\"average_stars\", \"cool\", \"fans\", \"funny\", \"review_count\", \"useful\"])\n",
    "user_stats.show()"
   ],
   "metadata": {
    "collapsed": false,
    "ExecuteTime": {
     "end_time": "2023-12-05T08:11:49.125026600Z",
     "start_time": "2023-12-05T08:11:44.243085300Z"
    }
   },
   "id": "f1966143425f53e0"
  },
  {
   "cell_type": "markdown",
   "source": [
    "business questions"
   ],
   "metadata": {
    "collapsed": false
   },
   "id": "5b53c0d80b6c7109"
  },
  {
   "cell_type": "markdown",
   "source": [
    "Як змінюється середній рейтинг бізнесів за відгуками у кожному місті протягом року?"
   ],
   "metadata": {
    "collapsed": false
   },
   "id": "adfd44ae1fcb4603"
  },
  {
   "cell_type": "code",
   "execution_count": 36,
   "outputs": [],
   "source": [
    "reviews_with_month = review_ds.withColumn(\"month\", f.month(\"date\"))\n",
    "\n",
    "windowSpec = Window.partitionBy(\"city\", \"month\")\n",
    "\n",
    "average_monthly_rating = (business_ds\n",
    "    .join(reviews_with_month, business_ds.business_id == reviews_with_month.business_id)\n",
    "    .withColumn(\"avg_monthly_rating\", f.avg(reviews_with_month.stars).over(windowSpec))\n",
    "    .select(\"city\", \"month\", \"avg_monthly_rating\")\n",
    "    .dropDuplicates([\"city\", \"month\"])\n",
    ")\n"
   ],
   "metadata": {
    "collapsed": false,
    "ExecuteTime": {
     "end_time": "2023-12-05T08:32:40.338687200Z",
     "start_time": "2023-12-05T08:32:40.257903200Z"
    }
   },
   "id": "e4f909c7d80b9e1f"
  },
  {
   "cell_type": "code",
   "execution_count": 37,
   "outputs": [
    {
     "name": "stdout",
     "output_type": "stream",
     "text": [
      "+------------+-----+------------------+\n",
      "|        city|month|avg_monthly_rating|\n",
      "+------------+-----+------------------+\n",
      "| AB Edmonton|    9|               5.0|\n",
      "|      AMBLER|   11|               3.0|\n",
      "|      AMBLER|   12|3.6666666666666665|\n",
      "|        AVON|    7|              3.25|\n",
      "|    Abington|    3|  3.40997830802603|\n",
      "|       Afton|    7|               4.4|\n",
      "|       Afton|    8|              3.75|\n",
      "|       Afton|   11|               3.5|\n",
      "|     Algiers|    5|               1.0|\n",
      "|     Algiers|    9|               1.0|\n",
      "| Aliso Viejo|    9|               5.0|\n",
      "|     Alloway|    4|               5.0|\n",
      "|   Andalusia|    2|               5.0|\n",
      "|     Antioch|    5|3.5048076923076925|\n",
      "|Apollo Beach|    1|3.7840616966580978|\n",
      "|Apollo Beach|    5| 3.596091205211726|\n",
      "|Apollo Beach|    9|3.7129337539432177|\n",
      "|Apollo beach|    7|               5.0|\n",
      "|       Arabi|    8| 4.301369863013699|\n",
      "|       Arabi|   12| 4.448275862068965|\n",
      "+------------+-----+------------------+\n"
     ]
    }
   ],
   "source": [
    "average_monthly_rating.show()"
   ],
   "metadata": {
    "collapsed": false,
    "ExecuteTime": {
     "end_time": "2023-12-05T08:32:56.618488700Z",
     "start_time": "2023-12-05T08:32:42.546110900Z"
    }
   },
   "id": "7885d85cb943fb43"
  },
  {
   "cell_type": "code",
   "execution_count": 38,
   "outputs": [],
   "source": [
    "average_monthly_rating.write.mode(\"overwrite\").csv(\"./data/csv/average_monthly_rating\", header=True)"
   ],
   "metadata": {
    "collapsed": false,
    "ExecuteTime": {
     "end_time": "2023-12-05T08:33:09.873146400Z",
     "start_time": "2023-12-05T08:32:56.620483200Z"
    }
   },
   "id": "d2ab1e7dfb22d05f"
  },
  {
   "cell_type": "markdown",
   "source": [
    "Який середній рейтинг бізнесів в кожному місті, при умові що бізнеси які впливають на рейтинг мають більше ніж 100 відгуків?"
   ],
   "metadata": {
    "collapsed": false
   },
   "id": "29458ac462040e61"
  },
  {
   "cell_type": "code",
   "execution_count": 14,
   "outputs": [],
   "source": [
    "average_rating_per_city = (business_ds\n",
    "    .filter(f.col(\"review_count\") > 100)\n",
    "    .groupBy(\"city\").agg(f.avg(\"stars\"))\n",
    ")"
   ],
   "metadata": {
    "collapsed": false,
    "ExecuteTime": {
     "end_time": "2023-12-05T08:12:25.282867700Z",
     "start_time": "2023-12-05T08:12:25.226018700Z"
    }
   },
   "id": "7d9ddf7f124f47cb"
  },
  {
   "cell_type": "code",
   "execution_count": 15,
   "outputs": [
    {
     "name": "stdout",
     "output_type": "stream",
     "text": [
      "+------------------+------------------+\n",
      "|              city|        avg(stars)|\n",
      "+------------------+------------------+\n",
      "|       Springfield|3.2954545454545454|\n",
      "|   King Of Prussia|3.2045454545454546|\n",
      "|Indian Rocks Beach|              3.86|\n",
      "|    Lafayette Hill| 4.071428571428571|\n",
      "|       Cherry Hill|3.6193181818181817|\n",
      "|         Levittown|3.9444444444444446|\n",
      "|        Brookhaven|               3.5|\n",
      "|        Isla Vista|             3.825|\n",
      "|     Virginia City|              4.25|\n",
      "|         Blue Bell|             3.525|\n",
      "|      West Chester|3.7083333333333335|\n",
      "|          Gallatin| 4.666666666666667|\n",
      "|     Saint Charles| 3.735294117647059|\n",
      "|           Hatboro|            3.8125|\n",
      "|         Hockessin|              4.25|\n",
      "|         Glassboro|               3.5|\n",
      "|          Boothwyn|               4.5|\n",
      "|          Perkasie| 4.333333333333333|\n",
      "|          Franklin|             3.716|\n",
      "|      Mount Laurel|               3.4|\n",
      "+------------------+------------------+\n"
     ]
    }
   ],
   "source": [
    "average_rating_per_city.show()"
   ],
   "metadata": {
    "collapsed": false,
    "ExecuteTime": {
     "end_time": "2023-12-05T08:12:26.597350900Z",
     "start_time": "2023-12-05T08:12:25.272894500Z"
    }
   },
   "id": "d8385948e469ad8"
  },
  {
   "cell_type": "code",
   "execution_count": 16,
   "outputs": [],
   "source": [
    "average_rating_per_city.write.mode(\"overwrite\").csv(\".\\\\data\\\\csv\\\\average_rating_per_city\", header=True)"
   ],
   "metadata": {
    "collapsed": false,
    "ExecuteTime": {
     "end_time": "2023-12-05T08:12:28.947064800Z",
     "start_time": "2023-12-05T08:12:26.592364Z"
    }
   },
   "id": "fdb6a98e48fa30a8"
  },
  {
   "cell_type": "markdown",
   "source": [
    "В якому році було залишено найбільше відгуків?"
   ],
   "metadata": {
    "collapsed": false
   },
   "id": "2f3d7ce4a9b0d0ac"
  },
  {
   "cell_type": "code",
   "execution_count": 17,
   "outputs": [],
   "source": [
    "reviews_by_year = (review_ds\n",
    "    .withColumn(\"year\", f.year(\"date\"))\n",
    "    .groupBy(\"year\").agg(f.count(\"review_id\"))\n",
    "    .orderBy(f.desc(\"count(review_id)\"))\n",
    ")\n"
   ],
   "metadata": {
    "collapsed": false,
    "ExecuteTime": {
     "end_time": "2023-12-05T08:12:29.050788300Z",
     "start_time": "2023-12-05T08:12:28.927119Z"
    }
   },
   "id": "a7a5163d7273766d"
  },
  {
   "cell_type": "code",
   "execution_count": 18,
   "outputs": [
    {
     "name": "stdout",
     "output_type": "stream",
     "text": [
      "+----+----------------+\n",
      "|year|count(review_id)|\n",
      "+----+----------------+\n",
      "|2019|          907284|\n",
      "|2018|          906362|\n",
      "|2017|          820048|\n",
      "|2016|          758882|\n",
      "|2015|          688415|\n",
      "|2021|          618189|\n",
      "|2020|          554557|\n",
      "|2014|          522275|\n",
      "|2013|          383950|\n",
      "|2012|          286570|\n",
      "|2011|          230813|\n",
      "|2010|          138587|\n",
      "|2009|           74387|\n",
      "|2008|           48226|\n",
      "|2022|           31665|\n",
      "|2007|           15363|\n",
      "|2006|            3853|\n",
      "|2005|             854|\n",
      "+----+----------------+\n"
     ]
    }
   ],
   "source": [
    "reviews_by_year.show()"
   ],
   "metadata": {
    "collapsed": false,
    "ExecuteTime": {
     "end_time": "2023-12-05T08:12:36.998526Z",
     "start_time": "2023-12-05T08:12:29.029845100Z"
    }
   },
   "id": "b30a98b7f687710e"
  },
  {
   "cell_type": "code",
   "execution_count": 19,
   "outputs": [],
   "source": [
    "reviews_by_year.write.mode(\"overwrite\").csv(\".\\\\data\\\\csv\\\\reviews_by_year\", header=True)"
   ],
   "metadata": {
    "collapsed": false,
    "ExecuteTime": {
     "end_time": "2023-12-05T08:12:46.858149200Z",
     "start_time": "2023-12-05T08:12:36.994536300Z"
    }
   },
   "id": "f6978d04b4f3192e"
  },
  {
   "cell_type": "markdown",
   "source": [
    "Топ 10 бізнесів які мають найбільшу кількість оцінок в 1 зірку"
   ],
   "metadata": {
    "collapsed": false
   },
   "id": "9a0c26ed60723c88"
  },
  {
   "cell_type": "code",
   "execution_count": 20,
   "outputs": [],
   "source": [
    "top_10_businesses_one_star = (review_ds\n",
    "    .filter(f.col(\"stars\") == 1)\n",
    "    .join(business_ds, review_ds.business_id == business_ds.business_id)\n",
    "    .groupBy(review_ds[\"business_id\"], \"name\", \"categories\")\n",
    "    .count()\n",
    "    .orderBy(f.desc(\"count\"))\n",
    "    .limit(10)\n",
    "    .select(\"name\", \"categories\", \"count\")\n",
    ")"
   ],
   "metadata": {
    "collapsed": false,
    "ExecuteTime": {
     "end_time": "2023-12-05T08:12:46.919983700Z",
     "start_time": "2023-12-05T08:12:46.860143700Z"
    }
   },
   "id": "62196badc23bb34"
  },
  {
   "cell_type": "code",
   "execution_count": 21,
   "outputs": [
    {
     "name": "stdout",
     "output_type": "stream",
     "text": [
      "+----------------------------------------+----------------------------------------------------------------------------------------------------------------------------------------------------------------------+-----+\n",
      "|name                                    |categories                                                                                                                                                            |count|\n",
      "+----------------------------------------+----------------------------------------------------------------------------------------------------------------------------------------------------------------------+-----+\n",
      "|Grand Sierra Resort and Casino          |Nightlife, Hotels & Travel, Arts & Entertainment, Music Venues, Hotels, Casinos, Event Planning & Services, Resorts                                                   |1045 |\n",
      "|Geno's Steaks                           |Sandwiches, Cheesesteaks, Steakhouses, Restaurants                                                                                                                    |1001 |\n",
      "|Nugget Casino Resort                    |Resorts, Event Planning & Services, Restaurants, Casinos, Arts & Entertainment, Party & Event Planning, Hotels, Venues & Event Spaces, Hotels & Travel                |753  |\n",
      "|Mother's Restaurant                     |Cajun/Creole, Restaurants, Event Planning & Services, Southern, Specialty Food, Soul Food, Food, Ethnic Food, American (New), Caterers, Breakfast & Brunch, Sandwiches|659  |\n",
      "|Goedeker's                              |Appliances & Repair, Local Services, Appliances, Furniture Stores, Shopping, Home & Garden, Mattresses                                                                |644  |\n",
      "|Philadelphia International Airport - PHL|Professional Services, Airports, Local Services, Hotels & Travel                                                                                                      |600  |\n",
      "|Pat's King of Steaks                    |Italian, American (Traditional), Sandwiches, Fast Food, Restaurants, Local Flavor, Cheesesteaks                                                                       |591  |\n",
      "|Sears Home Services                     |Local Services, Home Services, Appliances & Repair                                                                                                                    |569  |\n",
      "|Power Home Remodeling                   |Contractors, Windows Installation, Siding, Home Services                                                                                                              |519  |\n",
      "|Royal House                             |American (New), Restaurants, Sandwiches, Seafood, Cajun/Creole                                                                                                        |484  |\n",
      "+----------------------------------------+----------------------------------------------------------------------------------------------------------------------------------------------------------------------+-----+\n"
     ]
    }
   ],
   "source": [
    "top_10_businesses_one_star.show(truncate=False)"
   ],
   "metadata": {
    "collapsed": false,
    "ExecuteTime": {
     "end_time": "2023-12-05T08:13:00.938210700Z",
     "start_time": "2023-12-05T08:12:46.924971Z"
    }
   },
   "id": "98e37585136d6668"
  },
  {
   "cell_type": "code",
   "execution_count": 22,
   "outputs": [],
   "source": [
    "top_10_businesses_one_star.write.mode(\"overwrite\").csv(\".\\\\data\\\\csv\\\\top_10_businesses_one_star\", header=True)"
   ],
   "metadata": {
    "collapsed": false,
    "ExecuteTime": {
     "end_time": "2023-12-05T08:13:10.445068300Z",
     "start_time": "2023-12-05T08:13:00.916269Z"
    }
   },
   "id": "499aeb1bcb7866f8"
  },
  {
   "cell_type": "markdown",
   "source": [
    "Які категорії бізнесів мають найбільшу кількість п'ятизіркових відгуків?"
   ],
   "metadata": {
    "collapsed": false
   },
   "id": "320a54308430dd16"
  },
  {
   "cell_type": "code",
   "execution_count": 23,
   "outputs": [],
   "source": [
    "business_wsc_ds = (business_ds\n",
    "    .withColumn(\"categories\", f.split(f.col(\"categories\"), \", \"))\n",
    "    .withColumn(\"category\", f.explode(f.col(\"categories\")))\n",
    ")\n",
    "\n",
    "top_categories = (review_ds\n",
    "    .filter(f.col(\"stars\") == 5)\n",
    "    .join(business_wsc_ds, \"business_id\")\n",
    "    .groupBy(\"category\")\n",
    "    .count()\n",
    "    .orderBy(f.desc(\"count\"))\n",
    ")"
   ],
   "metadata": {
    "collapsed": false,
    "ExecuteTime": {
     "end_time": "2023-12-05T08:13:10.520864800Z",
     "start_time": "2023-12-05T08:13:10.446065100Z"
    }
   },
   "id": "7d8d7c13c12c475d"
  },
  {
   "cell_type": "code",
   "execution_count": 24,
   "outputs": [
    {
     "name": "stdout",
     "output_type": "stream",
     "text": [
      "+--------------------+-------+\n",
      "|            category|  count|\n",
      "+--------------------+-------+\n",
      "|         Restaurants|2079441|\n",
      "|                Food| 868282|\n",
      "|           Nightlife| 654140|\n",
      "|                Bars| 617201|\n",
      "|      American (New)| 432315|\n",
      "|  Breakfast & Brunch| 400199|\n",
      "|American (Traditi...| 399045|\n",
      "|          Sandwiches| 317516|\n",
      "|             Seafood| 281802|\n",
      "|Event Planning & ...| 263540|\n",
      "|            Shopping| 259557|\n",
      "|       Beauty & Spas| 221478|\n",
      "|        Coffee & Tea| 217011|\n",
      "|               Pizza| 203007|\n",
      "|             Italian| 195508|\n",
      "|             Mexican| 188450|\n",
      "|       Cocktail Bars| 163718|\n",
      "|             Burgers| 163618|\n",
      "|Arts & Entertainment| 157111|\n",
      "|            Desserts| 156471|\n",
      "+--------------------+-------+\n"
     ]
    }
   ],
   "source": [
    "top_categories.show()"
   ],
   "metadata": {
    "collapsed": false,
    "ExecuteTime": {
     "end_time": "2023-12-05T08:13:20.370098900Z",
     "start_time": "2023-12-05T08:13:10.521863200Z"
    }
   },
   "id": "90e4840373251f60"
  },
  {
   "cell_type": "code",
   "execution_count": 25,
   "outputs": [],
   "source": [
    "top_categories.write.mode(\"overwrite\").csv(\".\\\\data\\\\csv\\\\top_categories\", header=True)"
   ],
   "metadata": {
    "collapsed": false,
    "ExecuteTime": {
     "end_time": "2023-12-05T08:13:30.504913900Z",
     "start_time": "2023-12-05T08:13:20.366110100Z"
    }
   },
   "id": "224c28ff58e719e1"
  },
  {
   "cell_type": "markdown",
   "source": [
    "Яка середня кількість відгуків на бізнес в кожному місті?"
   ],
   "metadata": {
    "collapsed": false
   },
   "id": "fd99af87fc746c3c"
  },
  {
   "cell_type": "code",
   "execution_count": 26,
   "outputs": [],
   "source": [
    "windowSpec = Window.partitionBy(\"city\")\n",
    "\n",
    "average_reviews_per_business = (business_ds\n",
    "    .withColumn(\"avg_reviews\", f.avg(\"review_count\").over(windowSpec))\n",
    "    .select(\"city\", \"avg_reviews\")\n",
    "    .dropDuplicates([\"city\"])\n",
    ")"
   ],
   "metadata": {
    "collapsed": false,
    "ExecuteTime": {
     "end_time": "2023-12-05T08:13:30.584701200Z",
     "start_time": "2023-12-05T08:13:30.505911700Z"
    }
   },
   "id": "67c10111dbcdd14f"
  },
  {
   "cell_type": "code",
   "execution_count": 27,
   "outputs": [
    {
     "name": "stdout",
     "output_type": "stream",
     "text": [
      "+-----------------------+------------------+\n",
      "|city                   |avg_reviews       |\n",
      "+-----------------------+------------------+\n",
      "|AB Edmonton            |6.0               |\n",
      "|AMBLER                 |9.0               |\n",
      "|ARDMORE                |8.0               |\n",
      "|AVON                   |24.0              |\n",
      "|Abington               |28.57396449704142 |\n",
      "|Abington Township      |83.66666666666667 |\n",
      "|Affton                 |25.27777777777778 |\n",
      "|Afton                  |50.0              |\n",
      "|Alberta Park Industrial|5.0               |\n",
      "|Aldan                  |17.545454545454547|\n",
      "|Algiers                |28.0              |\n",
      "|Aliso Viejo            |9.0               |\n",
      "|Alloway                |9.0               |\n",
      "|Almonesson             |16.0              |\n",
      "|Alton                  |23.053333333333335|\n",
      "|Ambler                 |36.96208530805687 |\n",
      "|Andalusia              |16.333333333333332|\n",
      "|Antioch                |30.93073593073593 |\n",
      "|Apollo Beach           |31.65573770491803 |\n",
      "|Apollo beach           |9.0               |\n",
      "+-----------------------+------------------+\n"
     ]
    }
   ],
   "source": [
    "average_reviews_per_business.show(truncate=False)"
   ],
   "metadata": {
    "collapsed": false,
    "ExecuteTime": {
     "end_time": "2023-12-05T08:13:31.681766400Z",
     "start_time": "2023-12-05T08:13:30.585698200Z"
    }
   },
   "id": "d613a9e0437bebcc"
  },
  {
   "cell_type": "code",
   "execution_count": 28,
   "outputs": [],
   "source": [
    "average_reviews_per_business.write.mode(\"overwrite\").csv(\".\\\\data\\\\csv\\\\average_reviews_per_business\", header=True)"
   ],
   "metadata": {
    "collapsed": false,
    "ExecuteTime": {
     "end_time": "2023-12-05T08:13:33.162803400Z",
     "start_time": "2023-12-05T08:13:31.683761500Z"
    }
   },
   "id": "ed756a5ef3ecdf28"
  },
  {
   "cell_type": "markdown",
   "source": [],
   "metadata": {
    "collapsed": false
   },
   "id": "b3e25785398801b0"
  }
 ],
 "metadata": {
  "kernelspec": {
   "display_name": "Python 3",
   "language": "python",
   "name": "python3"
  },
  "language_info": {
   "codemirror_mode": {
    "name": "ipython",
    "version": 2
   },
   "file_extension": ".py",
   "mimetype": "text/x-python",
   "name": "python",
   "nbconvert_exporter": "python",
   "pygments_lexer": "ipython2",
   "version": "2.7.6"
  }
 },
 "nbformat": 4,
 "nbformat_minor": 5
}
